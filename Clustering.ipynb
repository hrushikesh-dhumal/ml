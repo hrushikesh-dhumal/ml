{
 "cells": [
  {
   "cell_type": "code",
   "execution_count": null,
   "metadata": {},
   "outputs": [],
   "source": []
  },
  {
   "cell_type": "code",
   "execution_count": null,
   "metadata": {},
   "outputs": [],
   "source": []
  },
  {
   "cell_type": "code",
   "execution_count": null,
   "metadata": {},
   "outputs": [],
   "source": []
  },
  {
   "cell_type": "markdown",
   "metadata": {},
   "source": [
    "## Elbow curve"
   ]
  },
  {
   "cell_type": "code",
   "execution_count": null,
   "metadata": {},
   "outputs": [],
   "source": [
    "from sklearn.cluster import KMeans, MiniBatchKMeans\n",
    "from scipy.spatial.distance import cdist\n",
    "\n",
    "def kmeans_elbow(X, n=12):\n",
    "    \"\"\"\n",
    "    For a feature matrix compute the Minibatch kmeans starting form 2 to n clusters and plot the mean distortion\n",
    "    produced at each cluster.\n",
    "    \"\"\"\n",
    "    \n",
    "    K = range(1, n)\n",
    "    meandistortions = []\n",
    "    \n",
    "    for k in K:\n",
    "        kmeans = MiniBatchKMeans(n_clusters=k, init='k-means++', n_init=1,\n",
    "                             init_size=1000, batch_size=1000)\n",
    "#         kmeans = KMeans(n_clusters)\n",
    "        kmeans.fit(X)\n",
    "        meandistortions.append(sum(np.min(cdist(X, kmeans.cluster_centers_, 'euclidean'), axis=1)) / X.shape[0])\n",
    "\n",
    "    plt.plot(K, meandistortions, 'bx-')\n",
    "    plt.xlabel('k')\n",
    "    plt.ylabel('Average distortion')\n",
    "    plt.title('Selecting k with the Elbow Method')\n",
    "    plt.show()\n"
   ]
  }
 ],
 "metadata": {
  "kernelspec": {
   "display_name": "Python 3",
   "language": "python",
   "name": "python3"
  },
  "language_info": {
   "codemirror_mode": {
    "name": "ipython",
    "version": 3
   },
   "file_extension": ".py",
   "mimetype": "text/x-python",
   "name": "python",
   "nbconvert_exporter": "python",
   "pygments_lexer": "ipython3",
   "version": "3.7.3"
  }
 },
 "nbformat": 4,
 "nbformat_minor": 2
}
